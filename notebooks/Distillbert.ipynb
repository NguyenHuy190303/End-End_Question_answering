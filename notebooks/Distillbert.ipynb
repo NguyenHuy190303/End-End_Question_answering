{
 "cells": [
  {
   "cell_type": "markdown",
   "metadata": {},
   "source": [
    "## Install and import bibraries"
   ]
  },
  {
   "cell_type": "code",
   "execution_count": null,
   "metadata": {},
   "outputs": [],
   "source": [
    "# Install and import libraries\n",
    "\n",
    "# !pip install -qq datasets==2.16.1 evaluate==0.4.1 transformers[sentencepiece]==4.35.2\n",
    "# !pip install -qq accelerate==0.26.1\n",
    "# !apt install git-lfs"
   ]
  },
  {
   "cell_type": "code",
   "execution_count": null,
   "metadata": {},
   "outputs": [
    {
     "name": "stderr",
     "output_type": "stream",
     "text": [
      "d:\\Asus\\Ungdung\\Miniconda\\workspace\\envs\\AIOEx\\lib\\site-packages\\tqdm\\auto.py:21: TqdmWarning: IProgress not found. Please update jupyter and ipywidgets. See https://ipywidgets.readthedocs.io/en/stable/user_install.html\n",
      "  from .autonotebook import tqdm as notebook_tqdm\n"
     ]
    }
   ],
   "source": [
    "\n",
    "import numpy as np\n",
    "import matplotlib.pyplot as plt\n",
    "from tqdm.auto import tqdm\n",
    "import collections\n",
    "\n",
    "import torch\n",
    "\n",
    "from datasets import load_dataset\n",
    "from transformers import AutoTokenizer\n",
    "from transformers import AutoModelForQuestionAnswering\n",
    "from transformers import TrainingArguments\n",
    "from transformers import Trainer\n",
    "import evaluate\n"
   ]
  },
  {
   "cell_type": "markdown",
   "metadata": {},
   "source": [
    "### Check for GPU availability"
   ]
  },
  {
   "cell_type": "code",
   "execution_count": null,
   "metadata": {},
   "outputs": [],
   "source": [
    "device = torch.device(\"cuda\") if torch.cuda.is_available() else torch.device(\"cpu\")\n",
    "print(f\"Using device: {device}\")"
   ]
  },
  {
   "cell_type": "markdown",
   "metadata": {},
   "source": [
    "### Load dataset"
   ]
  },
  {
   "cell_type": "code",
   "execution_count": null,
   "metadata": {},
   "outputs": [],
   "source": [
    "dataset = load_dataset(\"squad_v2\")\n",
    "print(dataset)"
   ]
  },
  {
   "cell_type": "code",
   "execution_count": 5,
   "metadata": {},
   "outputs": [
    {
     "data": {
      "text/plain": [
       "DatasetDict({\n",
       "    train: Dataset({\n",
       "        features: ['id', 'title', 'context', 'question', 'answers'],\n",
       "        num_rows: 130319\n",
       "    })\n",
       "    validation: Dataset({\n",
       "        features: ['id', 'title', 'context', 'question', 'answers'],\n",
       "        num_rows: 11873\n",
       "    })\n",
       "})"
      ]
     },
     "execution_count": 5,
     "metadata": {},
     "output_type": "execute_result"
    }
   ],
   "source": [
    "raw_datasets"
   ]
  },
  {
   "cell_type": "markdown",
   "metadata": {},
   "source": [
    "### Tokenization"
   ]
  },
  {
   "cell_type": "code",
   "execution_count": null,
   "metadata": {},
   "outputs": [],
   "source": [
    "tokenizer = AutoTokenizer.from_pretrained(\"distilbert-base-uncased\")\n",
    "\n",
    "def preprocess_function(examples):\n",
    "    return tokenizer(examples[\"question\"], examples[\"context\"], truncation=True, padding=\"max_length\", max_length=384)\n",
    "\n",
    "tokenized_datasets = dataset.map(preprocess_function, batched=True)\n",
    "print(tokenized_datasets)"
   ]
  },
  {
   "cell_type": "code",
   "execution_count": 87,
   "metadata": {},
   "outputs": [],
   "source": [
    "def find_start_end(inputs, examples, offset_mapping, sample_map):\n",
    "    # Trích xuất thông tin về câu trả lời (answers) từ examples.\n",
    "    answers = examples[\"answers\"]\n",
    "\n",
    "    # Khởi tạo danh sách các vị trí bắt đầu và kết thúc câu trả lời.\n",
    "    start_positions = []\n",
    "    end_positions = []\n",
    "\n",
    "    # Duyệt qua danh sách offset_mapping.\n",
    "    for i, offset in enumerate(offset_mapping):\n",
    "        sample_idx = sample_map[i]\n",
    "\n",
    "        # Trích xuất sequence_ids.\n",
    "        sequence_ids = inputs.sequence_ids(i)\n",
    "\n",
    "        # xác định start-end id of context\n",
    "        idx = 0\n",
    "        while sequence_ids[idx] != 1:\n",
    "            idx += 1\n",
    "        start_idx = idx\n",
    "        while sequence_ids[idx] == 1:\n",
    "            idx += 1\n",
    "        end_idx = idx - 1\n",
    "\n",
    "        # Trích xuất thông tin về câu trả lời cho mẫu này\n",
    "        answer = answers[sample_idx]\n",
    "\n",
    "        # Nếu không có câu trả lời, gán nhãn (0, 0).\n",
    "        if len(answer['text']) == 0:\n",
    "            start_positions.append(0)\n",
    "            end_positions.append(0)\n",
    "        else:\n",
    "            # Xác định vị trí ký tự bắt đầu và kết thúc của câu trả lời trong ngữ cảnh.\n",
    "            start_char = answer[\"answer_start\"][0]\n",
    "            end_char = answer[\"answer_start\"][0] + len(answer[\"text\"][0])\n",
    "\n",
    "            # Nếu câu trả lời không nằm hoàn toàn trong ngữ cảnh, gán nhãn là (0, 0).\n",
    "            if offset[start_idx][0] > start_char or offset[end_idx][1] < end_char:\n",
    "                start_positions.append(0)\n",
    "                end_positions.append(0)\n",
    "            else:\n",
    "                # Nếu không, xác định vị trí token bắt đầu và kết thúc của câu trả lời.\n",
    "                idx = start_idx\n",
    "                while idx <= end_idx and offset[idx][0] <= start_char:\n",
    "                    idx += 1\n",
    "                start_positions.append(idx - 1)\n",
    "\n",
    "                idx = end_idx\n",
    "                while idx >= start_idx and offset[idx][1] >= end_char:\n",
    "                    idx -= 1\n",
    "                end_positions.append(idx + 1)\n",
    "\n",
    "    return start_positions, end_positions\n",
    "        "
   ]
  },
  {
   "cell_type": "code",
   "execution_count": 88,
   "metadata": {},
   "outputs": [],
   "source": [
    "# Định nghĩa hàm preprocess_training_examples và nhận đối số examples là dữ liệu đào tạo\n",
    "def preprocess_training_examples(examples): # batch of samples\n",
    "    inputs = tokenizer(\n",
    "        examples[\"question\"],\n",
    "        examples[\"context\"],\n",
    "        truncation=\"only_second\",\n",
    "        max_length=MAX_LENGTH,\n",
    "        stride=STRIDE,\n",
    "        return_overflowing_tokens=True,\n",
    "        return_offsets_mapping=True,\n",
    "        padding=\"max_length\")\n",
    "    # Trích xuất offset_mapping và sample_map, loại bỏ chúng khỏi inputs.\n",
    "    offset_mapping = inputs.pop(\"offset_mapping\")\n",
    "    sample_map = inputs.pop(\"overflow_to_sample_mapping\")\n",
    "    \n",
    "    start_positions, end_positions = find_start_end(\n",
    "        inputs, examples, offset_mapping, sample_map)\n",
    "\n",
    "    # Thêm thông tin vị trí bắt đầu và kết thúc vào inputs.\n",
    "    inputs[\"start_positions\"] = start_positions\n",
    "    inputs[\"end_positions\"] = end_positions\n",
    "\n",
    "    return inputs"
   ]
  },
  {
   "cell_type": "code",
   "execution_count": 89,
   "metadata": {},
   "outputs": [
    {
     "name": "stderr",
     "output_type": "stream",
     "text": [
      "Map: 100%|██████████| 130319/130319 [00:38<00:00, 3370.76 examples/s]\n"
     ]
    },
    {
     "data": {
      "text/plain": [
       "(130319, 131754)"
      ]
     },
     "execution_count": 89,
     "metadata": {},
     "output_type": "execute_result"
    }
   ],
   "source": [
    "# Tạo một biến train_dataset và gán cho nó giá trị sau khi áp dụng hàm preprocess_training_examples lên tập dữ liệu \"train\"\n",
    "# Bật chế độ xử lý theo từng batch bằng cách đặt batched=True\n",
    "# Loại bỏ các cột không cần thiết trong tập dữ liệu \"train\" bằng cách sử dụng remove_columns\n",
    "\n",
    "train_dataset = raw_datasets[\"train\"].map(\n",
    "    preprocess_training_examples,\n",
    "    batched=True,\n",
    "    remove_columns=raw_datasets[\"train\"].column_names,\n",
    ")\n",
    "\n",
    "# In ra độ dài của tập dữ liệu \"train\" ban đầu và độ dài của tập dữ liệu đã được xử lý (train_dataset)\n",
    "len(raw_datasets[\"train\"]), len(train_dataset)"
   ]
  },
  {
   "cell_type": "code",
   "execution_count": 93,
   "metadata": {},
   "outputs": [
    {
     "name": "stdout",
     "output_type": "stream",
     "text": [
      "dict_keys(['input_ids', 'attention_mask', 'start_positions', 'end_positions'])\n"
     ]
    }
   ],
   "source": [
    "print(train_dataset[0].keys())"
   ]
  },
  {
   "cell_type": "code",
   "execution_count": 73,
   "metadata": {},
   "outputs": [],
   "source": [
    "# Định nghĩa hàm preprocess_training_examples và nhận đối số examples là dữ liệu đào tạo\n",
    "def preprocess_validation_examples(examples):  # batch of samples\n",
    "    inputs = tokenizer(\n",
    "        examples[\"question\"],\n",
    "        examples[\"context\"],\n",
    "        truncation=\"only_second\",\n",
    "        max_length=MAX_LENGTH,\n",
    "        stride=STRIDE,\n",
    "        return_overflowing_tokens=True,\n",
    "        return_offsets_mapping=True,\n",
    "        padding=\"max_length\")\n",
    "    # Lấy ánh xạ để ánh xạ lại ví dụ tham chiếu cho từng dòng trong inputs\n",
    "    sample_map = inputs.pop(\"overflow_to_sample_mapping\")\n",
    "    example_ids = []\n",
    "\n",
    "    # Xác định ví dụ tham chiếu cho mỗi dòng đầu vào và\n",
    "    # điều chỉnh ánh xạ offset\n",
    "    for i in range(len(inputs[\"input_ids\"])):\n",
    "        sample_idx = sample_map[i]\n",
    "        example_ids.append(examples[\"id\"][sample_idx])\n",
    "\n",
    "        sequence_ids = inputs.sequence_ids(i)\n",
    "        offset = inputs[\"offset_mapping\"][i]\n",
    "\n",
    "        # Loại bỏ các offset không phù hợp với sequence_ids (chỉ giữ lại offset của context)\n",
    "        inputs[\"offset_mapping\"][i] = [\n",
    "            o if sequence_ids[k] == 1 else None\n",
    "            for k, o in enumerate(offset)\n",
    "        ]\n",
    "\n",
    "    # Thêm thông tin ví dụ tham chiếu vào đầu vào\n",
    "    inputs[\"example_id\"] = example_ids\n",
    "\n",
    "    return inputs"
   ]
  },
  {
   "cell_type": "code",
   "execution_count": 74,
   "metadata": {},
   "outputs": [
    {
     "name": "stderr",
     "output_type": "stream",
     "text": [
      "Map: 100%|██████████| 11873/11873 [00:05<00:00, 2157.49 examples/s]\n"
     ]
    },
    {
     "data": {
      "text/plain": [
       "(11873, 12134)"
      ]
     },
     "execution_count": 74,
     "metadata": {},
     "output_type": "execute_result"
    }
   ],
   "source": [
    "# Tạo một biến validation_dataset và gán giá trị bằng việc sử dụng dữ liệu từ raw_datasets[\"validation\"] sau khi áp dụng một hàm xử lý trước.\n",
    "validation_dataset = raw_datasets[\"validation\"].map(\n",
    "    # Gọi hàm preprocess_validation_examples để xử lý dữ liệu đầu vào.\n",
    "    preprocess_validation_examples,\n",
    "    batched=True,  # Xử lý dữ liệu theo từng batch.\n",
    "    # Loại bỏ các cột không cần thiết từ dữ liệu ban đầu.\n",
    "    remove_columns=raw_datasets[\"validation\"].column_names,\n",
    ")\n",
    "\n",
    "# In ra độ dài của raw_datasets[\"validation\"] và validation_dataset để so sánh.\n",
    "len(raw_datasets[\"validation\"]), len(validation_dataset)"
   ]
  },
  {
   "cell_type": "code",
   "execution_count": 94,
   "metadata": {},
   "outputs": [
    {
     "data": {
      "text/plain": [
       "dict_keys(['input_ids', 'attention_mask', 'offset_mapping', 'example_id'])"
      ]
     },
     "execution_count": 94,
     "metadata": {},
     "output_type": "execute_result"
    }
   ],
   "source": [
    "validation_dataset[0].keys()"
   ]
  },
  {
   "cell_type": "markdown",
   "metadata": {},
   "source": [
    "## Train model"
   ]
  },
  {
   "cell_type": "code",
   "execution_count": null,
   "metadata": {},
   "outputs": [],
   "source": [
    "# Load model\n",
    "model = AutoModelForQuestionAnswering.from_pretrained(MODEL_NAME)"
   ]
  },
  {
   "cell_type": "code",
   "execution_count": null,
   "metadata": {},
   "outputs": [],
   "source": [
    "training_args = TrainingArguments(\n",
    "    output_dir=\"/kaggle/working/distilbert-finetuned-squadv2\",\n",
    "    learning_rate=2e-5,\n",
    "    per_device_train_batch_size=16,\n",
    "    per_device_eval_batch_size=16,\n",
    "    num_train_epochs=15,\n",
    "    weight_decay=0.01,\n",
    "    eval_strategy=\"epoch\",\n",
    "    save_strategy=\"epoch\",\n",
    "    load_best_model_at_end=True,\n",
    "    report_to=None,\n",
    "    save_total_limit=1,\n",
    "    metric_for_best_model=\"eval_accuracy\"\n",
    ")\n",
    "\n",
    "# Khởi tạo một đối tượng Trainer để huấn luyện mô hình\n",
    "trainer = Trainer(\n",
    "    model=model,  # Sử dụng mô hình đã tạo trước đó\n",
    "    args=training_args,  # Các tham số và cấu hình huấn luyện\n",
    "    train_dataset=train_dataset,  # Sử dụng tập dữ liệu huấn luyện\n",
    "    eval_dataset=validation_dataset,  # Sử dụng tập dữ liệu đánh giá\n",
    "    tokenizer=tokenizer,  # Sử dụng tokenizer để xử lý văn bản\n",
    ")\n",
    "\n",
    "# Bắt đầu quá trình huấn luyện\n",
    "trainer.train()"
   ]
  },
  {
   "cell_type": "markdown",
   "metadata": {},
   "source": [
    "## Evaluate model"
   ]
  },
  {
   "cell_type": "code",
   "execution_count": null,
   "metadata": {},
   "outputs": [],
   "source": [
    "metric = evaluate.load(\"squad_v2\")\n",
    "\n",
    "def compute_metrics(eval_pred):\n",
    "    predictions, labels = eval_pred\n",
    "    return metric.compute(predictions=predictions, references=labels)\n",
    "\n",
    "results = trainer.evaluate()\n",
    "print(results)"
   ]
  },
  {
   "cell_type": "markdown",
   "metadata": {},
   "source": [
    "## Visualization"
   ]
  },
  {
   "cell_type": "code",
   "execution_count": null,
   "metadata": {},
   "outputs": [],
   "source": [
    "def plot_metrics(results):\n",
    "    metrics = [\"eval_loss\", \"eval_runtime\", \"eval_samples_per_second\"]\n",
    "    values = [results[m] for m in metrics]\n",
    "    plt.figure(figsize=(8, 5))\n",
    "    plt.bar(metrics, values, color=['blue', 'orange', 'green'])\n",
    "    plt.xlabel(\"Metrics\")\n",
    "    plt.ylabel(\"Values\")\n",
    "    plt.title(\"Evaluation Metrics\")\n",
    "    plt.show()\n",
    "\n",
    "plot_metrics(results)"
   ]
  },
  {
   "cell_type": "markdown",
   "metadata": {},
   "source": [
    "## Example inference"
   ]
  },
  {
   "cell_type": "code",
   "execution_count": null,
   "metadata": {},
   "outputs": [],
   "source": [
    "def answer_question(question, context):\n",
    "    inputs = tokenizer(question, context, return_tensors=\"pt\", truncation=True, padding=\"max_length\", max_length=384).to(device)\n",
    "    with torch.no_grad():\n",
    "        outputs = model(**inputs)\n",
    "    answer_start = torch.argmax(outputs.start_logits)\n",
    "    answer_end = torch.argmax(outputs.end_logits) + 1\n",
    "    answer = tokenizer.convert_tokens_to_string(tokenizer.convert_ids_to_tokens(inputs[\"input_ids\"][0][answer_start:answer_end]))\n",
    "    return answer"
   ]
  },
  {
   "cell_type": "markdown",
   "metadata": {},
   "source": [
    "## Example usage"
   ]
  },
  {
   "cell_type": "code",
   "execution_count": null,
   "metadata": {},
   "outputs": [],
   "source": [
    "context = \"Hugging Face is a company based in New York City. It develops tools for natural language processing.\"\n",
    "question = \"Where is Hugging Face based?\"\n",
    "print(f\"Question: {question}\")\n",
    "print(f\"Answer: {answer_question(question, context)}\")"
   ]
  }
 ],
 "metadata": {
  "kernelspec": {
   "display_name": "AIOEx",
   "language": "python",
   "name": "python3"
  },
  "language_info": {
   "codemirror_mode": {
    "name": "ipython",
    "version": 3
   },
   "file_extension": ".py",
   "mimetype": "text/x-python",
   "name": "python",
   "nbconvert_exporter": "python",
   "pygments_lexer": "ipython3",
   "version": "3.10.15"
  }
 },
 "nbformat": 4,
 "nbformat_minor": 2
}
